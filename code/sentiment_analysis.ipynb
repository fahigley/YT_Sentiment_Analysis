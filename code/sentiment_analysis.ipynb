{
 "cells": [
  {
   "cell_type": "code",
   "execution_count": 95,
   "metadata": {},
   "outputs": [
    {
     "name": "stderr",
     "output_type": "stream",
     "text": [
      "[nltk_data] Downloading package punkt to\n",
      "[nltk_data]     /Users/frankhigley/nltk_data...\n",
      "[nltk_data]   Package punkt is already up-to-date!\n",
      "[nltk_data] Downloading package vader_lexicon to\n",
      "[nltk_data]     /Users/frankhigley/nltk_data...\n",
      "[nltk_data]   Package vader_lexicon is already up-to-date!\n"
     ]
    }
   ],
   "source": [
    "import pandas as pd\n",
    "import numpy as np\n",
    "import matplotlib.pyplot as plt\n",
    "import seaborn as sns \n",
    "\n",
    "plt.style.use('ggplot')\n",
    "\n",
    "import nltk\n",
    "nltk.download('punkt')\n",
    "nltk.download('vader_lexicon')\n",
    "\n",
    "from nltk.sentiment import SentimentIntensityAnalyzer\n",
    "from tqdm.notebook import tqdm"
   ]
  },
  {
   "cell_type": "markdown",
   "metadata": {},
   "source": [
    "initialize sentimentIntensityAnalyser()"
   ]
  },
  {
   "cell_type": "code",
   "execution_count": 96,
   "metadata": {},
   "outputs": [],
   "source": [
    "sia = SentimentIntensityAnalyzer()"
   ]
  },
  {
   "cell_type": "markdown",
   "metadata": {},
   "source": [
    "Sentiment analysis function:\n",
    "- uses tqdm for progress bar\n",
    "- iterated through all data and if the data is string perform sentiment analysis\n",
    "- the based of the compounded number the comment is either positive negaive or neutral\n",
    "- return the sentiment array for each file this array consists of ones, zeros, and negative ones"
   ]
  },
  {
   "cell_type": "code",
   "execution_count": 97,
   "metadata": {},
   "outputs": [],
   "source": [
    "def sentiment_analysis(data, sia):\n",
    "   #results\n",
    "    sent = []\n",
    "\n",
    "    # run sentiment analysis\n",
    "    for i, row in tqdm(data.iterrows(), total=len(data)):\n",
    "        comment = row['Comments']\n",
    "\n",
    "        #check if comment is a string\n",
    "        if isinstance(comment, str):\n",
    "            res = sia.polarity_scores(comment)\n",
    "            compound = res.get('compound', None)\n",
    "            if compound is not None:\n",
    "                if compound > 0:\n",
    "                    sentiment = 1\n",
    "                elif compound < 0:\n",
    "                    sentiment = -1\n",
    "                else:\n",
    "                    sentiment = 0\n",
    "\n",
    "                sent.append(sentiment)    \n",
    "\n",
    "    return sent"
   ]
  },
  {
   "cell_type": "code",
   "execution_count": 98,
   "metadata": {},
   "outputs": [],
   "source": [
    "def get_sent_totals(sent):\n",
    "    pos = 0\n",
    "    neg = 0\n",
    "    neu = 0\n",
    "\n",
    "    for i in sent:\n",
    "        if i == 1:\n",
    "            pos += 1\n",
    "        if i == -1:\n",
    "            neg += 1\n",
    "        else:\n",
    "            neu +=1\n",
    "\n",
    "    return pos, neu, neg"
   ]
  },
  {
   "cell_type": "markdown",
   "metadata": {},
   "source": [
    "Runs sentiment analysis on a given file path returns the number of positive, negative, and neutral comments."
   ]
  },
  {
   "cell_type": "code",
   "execution_count": 99,
   "metadata": {},
   "outputs": [],
   "source": [
    "def run_sentiment_analysis(path):\n",
    "    data = pd.read_csv(path)\n",
    "    sentiment = sentiment_analysis(data, sia)\n",
    "    numpos, numneu, numneg = get_sent_totals(sentiment)\n",
    "\n",
    "    return numpos, numneu, numneg\n"
   ]
  },
  {
   "cell_type": "markdown",
   "metadata": {},
   "source": [
    "Create data file array"
   ]
  },
  {
   "cell_type": "code",
   "execution_count": 100,
   "metadata": {},
   "outputs": [],
   "source": [
    "clean_csv_files = ['../data/CleanCSV/beauty_comments_clean.csv',\n",
    "            '../data/CleanCSV/controversial_comments_clean.csv',\n",
    "            '../data/CleanCSV/gaming_comments_clean.csv',\n",
    "            '../data/CleanCSV/music_comments_clean.csv',\n",
    "            '../data/CleanCSV/reaction_comments_clean.csv',\n",
    "            '../data/CleanCSV/vlog_comments_clean.csv']"
   ]
  },
  {
   "cell_type": "code",
   "execution_count": 101,
   "metadata": {},
   "outputs": [],
   "source": [
    "raw_csv_files = ['../data/RawCSV/beauty_comments.csv',\n",
    "                 '../data/RawCSV/controversial_comments.csv',\n",
    "                 '../data/RawCSV/gaming_comments.csv',\n",
    "                 '../data/RawCSV/music_comments.csv',\n",
    "                 '../data/RawCSV/reaction_comments.csv',\n",
    "                 '../data/RawCSV/vlog_comments.csv']"
   ]
  },
  {
   "cell_type": "markdown",
   "metadata": {},
   "source": [
    "Run sentiment analysis on each dataset"
   ]
  },
  {
   "cell_type": "code",
   "execution_count": 102,
   "metadata": {},
   "outputs": [
    {
     "data": {
      "application/vnd.jupyter.widget-view+json": {
       "model_id": "3c8ba9246ce44b8398aa1f36f22322be",
       "version_major": 2,
       "version_minor": 0
      },
      "text/plain": [
       "  0%|          | 0/3136 [00:00<?, ?it/s]"
      ]
     },
     "metadata": {},
     "output_type": "display_data"
    },
    {
     "data": {
      "application/vnd.jupyter.widget-view+json": {
       "model_id": "00d78ec6205c40479b98d71f956c60d5",
       "version_major": 2,
       "version_minor": 0
      },
      "text/plain": [
       "  0%|          | 0/2235 [00:00<?, ?it/s]"
      ]
     },
     "metadata": {},
     "output_type": "display_data"
    },
    {
     "data": {
      "application/vnd.jupyter.widget-view+json": {
       "model_id": "12654e5e6e7f43259033a548d3ed827c",
       "version_major": 2,
       "version_minor": 0
      },
      "text/plain": [
       "  0%|          | 0/33370 [00:00<?, ?it/s]"
      ]
     },
     "metadata": {},
     "output_type": "display_data"
    },
    {
     "data": {
      "application/vnd.jupyter.widget-view+json": {
       "model_id": "8603398dca544b86a1ef945d95ce27ef",
       "version_major": 2,
       "version_minor": 0
      },
      "text/plain": [
       "  0%|          | 0/33501 [00:00<?, ?it/s]"
      ]
     },
     "metadata": {},
     "output_type": "display_data"
    },
    {
     "data": {
      "application/vnd.jupyter.widget-view+json": {
       "model_id": "ff1c020efe494095af3f2bf9c733bf49",
       "version_major": 2,
       "version_minor": 0
      },
      "text/plain": [
       "  0%|          | 0/1581 [00:00<?, ?it/s]"
      ]
     },
     "metadata": {},
     "output_type": "display_data"
    },
    {
     "data": {
      "application/vnd.jupyter.widget-view+json": {
       "model_id": "bafcbc59d09246f5b6763df8981d04ba",
       "version_major": 2,
       "version_minor": 0
      },
      "text/plain": [
       "  0%|          | 0/24479 [00:00<?, ?it/s]"
      ]
     },
     "metadata": {},
     "output_type": "display_data"
    }
   ],
   "source": [
    "beauty_sent_totals_clean = []\n",
    "contraversial_sent_totals_clean = []\n",
    "gaming_sent_totals_clean = []\n",
    "music_sent_totals_clean = []\n",
    "reaction_sent_totals_clean = []\n",
    "vlog_sent_totals_clean =[]\n",
    "\n",
    "beauty_sent_totals_clean = run_sentiment_analysis(clean_csv_files[0])\n",
    "contraversial_sent_totals_clean = run_sentiment_analysis(clean_csv_files[1])\n",
    "gaming_sent_totals_clean = run_sentiment_analysis(clean_csv_files[2])\n",
    "music_sent_totals_clean = run_sentiment_analysis(clean_csv_files[3])\n",
    "reaction_sent_totals_clean = run_sentiment_analysis(clean_csv_files[4])\n",
    "vlog_sent_totals_clean = run_sentiment_analysis(clean_csv_files[5])\n"
   ]
  },
  {
   "cell_type": "code",
   "execution_count": 103,
   "metadata": {},
   "outputs": [
    {
     "data": {
      "application/vnd.jupyter.widget-view+json": {
       "model_id": "d535ab0bf93b43be93e4d0c917cd2153",
       "version_major": 2,
       "version_minor": 0
      },
      "text/plain": [
       "  0%|          | 0/57587 [00:00<?, ?it/s]"
      ]
     },
     "metadata": {},
     "output_type": "display_data"
    },
    {
     "data": {
      "application/vnd.jupyter.widget-view+json": {
       "model_id": "f64a79d282d1416f909cd6566334ac0c",
       "version_major": 2,
       "version_minor": 0
      },
      "text/plain": [
       "  0%|          | 0/93584 [00:00<?, ?it/s]"
      ]
     },
     "metadata": {},
     "output_type": "display_data"
    },
    {
     "data": {
      "application/vnd.jupyter.widget-view+json": {
       "model_id": "7e69cd6053f043289e04b2e3c1a9b409",
       "version_major": 2,
       "version_minor": 0
      },
      "text/plain": [
       "  0%|          | 0/246826 [00:00<?, ?it/s]"
      ]
     },
     "metadata": {},
     "output_type": "display_data"
    },
    {
     "data": {
      "application/vnd.jupyter.widget-view+json": {
       "model_id": "6a9d5f98f16342ddb1feb15d3d7ef87f",
       "version_major": 2,
       "version_minor": 0
      },
      "text/plain": [
       "  0%|          | 0/238386 [00:00<?, ?it/s]"
      ]
     },
     "metadata": {},
     "output_type": "display_data"
    },
    {
     "data": {
      "application/vnd.jupyter.widget-view+json": {
       "model_id": "1b66e98350114298aa72d003277a6cfe",
       "version_major": 2,
       "version_minor": 0
      },
      "text/plain": [
       "  0%|          | 0/22207 [00:00<?, ?it/s]"
      ]
     },
     "metadata": {},
     "output_type": "display_data"
    },
    {
     "data": {
      "application/vnd.jupyter.widget-view+json": {
       "model_id": "ae87f5f48ca849a38d0d807f33f6b981",
       "version_major": 2,
       "version_minor": 0
      },
      "text/plain": [
       "  0%|          | 0/222522 [00:00<?, ?it/s]"
      ]
     },
     "metadata": {},
     "output_type": "display_data"
    }
   ],
   "source": [
    "beauty_sent_totals_raw = []\n",
    "contraversial_sent_totals_raw = []\n",
    "gaming_sent_totals_raw = []\n",
    "music_sent_totals_raw = []\n",
    "reaction_sent_totals_raw = []\n",
    "vlog_sent_totals_raw =[]\n",
    "\n",
    "beauty_sent_totals_raw = run_sentiment_analysis(raw_csv_files[0])\n",
    "contraversial_sent_totals_raw = run_sentiment_analysis(raw_csv_files[1])\n",
    "gaming_sent_totals_raw = run_sentiment_analysis(raw_csv_files[2])\n",
    "music_sent_totals_raw = run_sentiment_analysis(raw_csv_files[3])\n",
    "reaction_sent_totals_raw = run_sentiment_analysis(raw_csv_files[4])\n",
    "vlog_sent_totals_raw = run_sentiment_analysis(raw_csv_files[5])"
   ]
  },
  {
   "cell_type": "markdown",
   "metadata": {},
   "source": [
    "Print results"
   ]
  },
  {
   "cell_type": "code",
   "execution_count": 104,
   "metadata": {},
   "outputs": [
    {
     "name": "stdout",
     "output_type": "stream",
     "text": [
      "Beauty:\n",
      " \tPositive: 1528 \n",
      "\tNeutral: 2843 \n",
      "\tNegative: 293 \n",
      "\tTotal: 4664\n",
      "Contraversial:\n",
      " \tPositive: 882 \n",
      "\tNeutral: 1995 \n",
      "\tNegative: 240 \n",
      "\tTotal: 3117\n",
      "Gaming:\n",
      " \tPositive: 14790 \n",
      "\tNeutral: 31543 \n",
      "\tNegative: 1827 \n",
      "\tTotal: 48160\n",
      "Music:\n",
      " \tPositive: 5706 \n",
      "\tNeutral: 32670 \n",
      "\tNegative: 818 \n",
      "\tTotal: 39194\n",
      "Reaction:\n",
      " \tPositive: 351 \n",
      "\tNeutral: 1463 \n",
      "\tNegative: 118 \n",
      "\tTotal: 1932\n",
      "Vlog:\n",
      " \tPositive: 10775 \n",
      "\tNeutral: 22683 \n",
      "\tNegative: 1796 \n",
      "\tTotal: 35254\n"
     ]
    }
   ],
   "source": [
    "print(\"Beauty:\\n \\tPositive:\" , beauty_sent_totals_clean[0], \"\\n\\tNeutral:\", beauty_sent_totals_clean[1], \"\\n\\tNegative:\", beauty_sent_totals_clean[2], \"\\n\\tTotal:\", sum(beauty_sent_totals_clean))\n",
    "print(\"Contraversial:\\n \\tPositive:\" , contraversial_sent_totals_clean[0], \"\\n\\tNeutral:\", contraversial_sent_totals_clean[1], \"\\n\\tNegative:\", contraversial_sent_totals_clean[2], \"\\n\\tTotal:\", sum(contraversial_sent_totals_clean))\n",
    "print(\"Gaming:\\n \\tPositive:\" , gaming_sent_totals_clean[0], \"\\n\\tNeutral:\", gaming_sent_totals_clean[1], \"\\n\\tNegative:\", gaming_sent_totals_clean[2], \"\\n\\tTotal:\", sum(gaming_sent_totals_clean))\n",
    "print(\"Music:\\n \\tPositive:\" , music_sent_totals_clean[0], \"\\n\\tNeutral:\", music_sent_totals_clean[1], \"\\n\\tNegative:\", music_sent_totals_clean[2], \"\\n\\tTotal:\", sum(music_sent_totals_clean))\n",
    "print(\"Reaction:\\n \\tPositive:\" , reaction_sent_totals_clean[0], \"\\n\\tNeutral:\", reaction_sent_totals_clean[1], \"\\n\\tNegative:\", reaction_sent_totals_clean[2], \"\\n\\tTotal:\", sum(reaction_sent_totals_clean))\n",
    "print(\"Vlog:\\n \\tPositive:\" , vlog_sent_totals_clean[0], \"\\n\\tNeutral:\", vlog_sent_totals_clean[1], \"\\n\\tNegative:\", vlog_sent_totals_clean[2], \"\\n\\tTotal:\", sum(vlog_sent_totals_clean))"
   ]
  },
  {
   "cell_type": "code",
   "execution_count": 105,
   "metadata": {},
   "outputs": [
    {
     "name": "stdout",
     "output_type": "stream",
     "text": [
      "Beauty Raw:\n",
      " \tPositive: 40296 \n",
      "\tNeutral: 49446 \n",
      "\tNegative: 8122 \n",
      "\tTotal: 97864\n",
      "Contraversial Raw:\n",
      " \tPositive: 32494 \n",
      "\tNeutral: 53762 \n",
      "\tNegative: 39822 \n",
      "\tTotal: 126078\n",
      "Gaming Raw:\n",
      " \tPositive: 128935 \n",
      "\tNeutral: 220241 \n",
      "\tNegative: 26140 \n",
      "\tTotal: 375316\n",
      "Music Raw:\n",
      " \tPositive: 67076 \n",
      "\tNeutral: 218765 \n",
      "\tNegative: 19621 \n",
      "\tTotal: 305462\n",
      "Reaction Raw:\n",
      " \tPositive: 9798 \n",
      "\tNeutral: 18602 \n",
      "\tNegative: 3605 \n",
      "\tTotal: 32005\n",
      "Vlog Raw:\n",
      " \tPositive: 106208 \n",
      "\tNeutral: 191400 \n",
      "\tNegative: 30713 \n",
      "\tTotal: 328321\n"
     ]
    }
   ],
   "source": [
    "print(\"Beauty Raw:\\n \\tPositive:\" , beauty_sent_totals_raw[0], \"\\n\\tNeutral:\", beauty_sent_totals_raw[1], \"\\n\\tNegative:\", beauty_sent_totals_raw[2], \"\\n\\tTotal:\", sum(beauty_sent_totals_raw))\n",
    "print(\"Contraversial Raw:\\n \\tPositive:\" , contraversial_sent_totals_raw[0], \"\\n\\tNeutral:\", contraversial_sent_totals_raw[1], \"\\n\\tNegative:\", contraversial_sent_totals_raw[2], \"\\n\\tTotal:\", sum(contraversial_sent_totals_raw))\n",
    "print(\"Gaming Raw:\\n \\tPositive:\" , gaming_sent_totals_raw[0], \"\\n\\tNeutral:\", gaming_sent_totals_raw[1], \"\\n\\tNegative:\", gaming_sent_totals_raw[2], \"\\n\\tTotal:\", sum(gaming_sent_totals_raw))\n",
    "print(\"Music Raw:\\n \\tPositive:\" , music_sent_totals_raw[0], \"\\n\\tNeutral:\", music_sent_totals_raw[1], \"\\n\\tNegative:\", music_sent_totals_raw[2], \"\\n\\tTotal:\", sum(music_sent_totals_raw))\n",
    "print(\"Reaction Raw:\\n \\tPositive:\" , reaction_sent_totals_raw[0], \"\\n\\tNeutral:\", reaction_sent_totals_raw[1], \"\\n\\tNegative:\", reaction_sent_totals_raw[2], \"\\n\\tTotal:\", sum(reaction_sent_totals_raw))\n",
    "print(\"Vlog Raw:\\n \\tPositive:\" , vlog_sent_totals_raw[0], \"\\n\\tNeutral:\", vlog_sent_totals_raw[1], \"\\n\\tNegative:\", vlog_sent_totals_raw[2], \"\\n\\tTotal:\", sum(vlog_sent_totals_raw))"
   ]
  }
 ],
 "metadata": {
  "kernelspec": {
   "display_name": "Python 3",
   "language": "python",
   "name": "python3"
  },
  "language_info": {
   "codemirror_mode": {
    "name": "ipython",
    "version": 3
   },
   "file_extension": ".py",
   "mimetype": "text/x-python",
   "name": "python",
   "nbconvert_exporter": "python",
   "pygments_lexer": "ipython3",
   "version": "3.11.6"
  }
 },
 "nbformat": 4,
 "nbformat_minor": 2
}
