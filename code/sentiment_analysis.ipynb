{
 "cells": [
  {
   "cell_type": "code",
   "execution_count": 1,
   "metadata": {},
   "outputs": [
    {
     "name": "stderr",
     "output_type": "stream",
     "text": [
      "[nltk_data] Downloading package punkt to\n",
      "[nltk_data]     /Users/frankhigley/nltk_data...\n",
      "[nltk_data]   Package punkt is already up-to-date!\n",
      "[nltk_data] Downloading package vader_lexicon to\n",
      "[nltk_data]     /Users/frankhigley/nltk_data...\n",
      "[nltk_data]   Package vader_lexicon is already up-to-date!\n"
     ]
    }
   ],
   "source": [
    "import pandas as pd\n",
    "import numpy as np\n",
    "import matplotlib.pyplot as plt\n",
    "import seaborn as sns \n",
    "\n",
    "plt.style.use('ggplot')\n",
    "\n",
    "import nltk\n",
    "nltk.download('punkt')\n",
    "nltk.download('vader_lexicon')\n",
    "\n",
    "from nltk.sentiment import SentimentIntensityAnalyzer\n",
    "from tqdm.notebook import tqdm"
   ]
  },
  {
   "cell_type": "markdown",
   "metadata": {},
   "source": [
    "initialize sentimentIntensityAnalyser()"
   ]
  },
  {
   "cell_type": "code",
   "execution_count": 45,
   "metadata": {},
   "outputs": [],
   "source": [
    "sia = SentimentIntensityAnalyzer()"
   ]
  },
  {
   "cell_type": "markdown",
   "metadata": {},
   "source": [
    "Sentiment analysis function:\n",
    "- uses tqdm for progress bar\n",
    "- iterated through all data and if the data is string perform sentiment analysis\n",
    "- the based of the compounded number the comment is either positive negaive or neutral\n",
    "- return the sentiment array for each file this array consists of ones, zeros, and negative ones"
   ]
  },
  {
   "cell_type": "code",
   "execution_count": 62,
   "metadata": {},
   "outputs": [],
   "source": [
    "def sentiment_analysis(data, sia):\n",
    "   #results\n",
    "    sent = []\n",
    "\n",
    "    # run sentiment analysis\n",
    "    for i, row in tqdm(data.iterrows(), total=len(data)):\n",
    "        comment = row['Comments']\n",
    "\n",
    "        #check if comment is a string\n",
    "        if isinstance(comment, str):\n",
    "            res = sia.polarity_scores(comment)\n",
    "            compound = res.get('compound', None)\n",
    "            if compound is not None:\n",
    "                if compound > 0:\n",
    "                    sentiment = 1\n",
    "                elif compound < 0:\n",
    "                    sentiment = -1\n",
    "                else:\n",
    "                    sentiment = 0\n",
    "\n",
    "                sent.append(sentiment)    \n",
    "\n",
    "    return sent"
   ]
  },
  {
   "cell_type": "code",
   "execution_count": 63,
   "metadata": {},
   "outputs": [],
   "source": [
    "def get_sent_totals(sent):\n",
    "    pos = 0\n",
    "    neg = 0\n",
    "    neu = 0\n",
    "\n",
    "    for i in sent:\n",
    "        if i == 1:\n",
    "            pos += 1\n",
    "        if i == -1:\n",
    "            neg += 1\n",
    "        else:\n",
    "            neu +=1\n",
    "\n",
    "    return pos, neu, neg"
   ]
  },
  {
   "cell_type": "markdown",
   "metadata": {},
   "source": [
    "Runs sentiment analysis on a given file path returns the number of positive, negative, and neutral comments."
   ]
  },
  {
   "cell_type": "code",
   "execution_count": 64,
   "metadata": {},
   "outputs": [],
   "source": [
    "def run_sentiment_analysis(path):\n",
    "    data = pd.read_csv(path)\n",
    "    sentiment = sentiment_analysis(data, sia)\n",
    "    numpos, numneu, numneg = get_sent_totals(sentiment)\n",
    "\n",
    "    return numpos, numneu, numneg\n"
   ]
  },
  {
   "cell_type": "markdown",
   "metadata": {},
   "source": [
    "Create data file array"
   ]
  },
  {
   "cell_type": "code",
   "execution_count": 65,
   "metadata": {},
   "outputs": [],
   "source": [
    "csv_files = ['../data/CleanCSV/bcc_i.csv',\n",
    "            '../data/CleanCSV/ccc_i.csv',\n",
    "            '../data/CleanCSV/gcc_i.csv',\n",
    "            '../data/CleanCSV/mcc_i.csv',\n",
    "            '../data/CleanCSV/rcc_i.csv',\n",
    "            '../data/CleanCSV/vcc_i.csv']"
   ]
  },
  {
   "cell_type": "markdown",
   "metadata": {},
   "source": [
    "Run sentiment analysis on each dataset"
   ]
  },
  {
   "cell_type": "code",
   "execution_count": 68,
   "metadata": {},
   "outputs": [
    {
     "data": {
      "application/vnd.jupyter.widget-view+json": {
       "model_id": "5b5d8f8de848442888455195c3aaeb7e",
       "version_major": 2,
       "version_minor": 0
      },
      "text/plain": [
       "  0%|          | 0/3136 [00:00<?, ?it/s]"
      ]
     },
     "metadata": {},
     "output_type": "display_data"
    },
    {
     "data": {
      "application/vnd.jupyter.widget-view+json": {
       "model_id": "fda4bc31aa8f421b9744990c0f82573a",
       "version_major": 2,
       "version_minor": 0
      },
      "text/plain": [
       "  0%|          | 0/2235 [00:00<?, ?it/s]"
      ]
     },
     "metadata": {},
     "output_type": "display_data"
    },
    {
     "data": {
      "application/vnd.jupyter.widget-view+json": {
       "model_id": "f8b01fc8110d4fe6ada4989146c5174f",
       "version_major": 2,
       "version_minor": 0
      },
      "text/plain": [
       "  0%|          | 0/33370 [00:00<?, ?it/s]"
      ]
     },
     "metadata": {},
     "output_type": "display_data"
    },
    {
     "data": {
      "application/vnd.jupyter.widget-view+json": {
       "model_id": "e77e1c4dd568430087e7ca4ba3d849eb",
       "version_major": 2,
       "version_minor": 0
      },
      "text/plain": [
       "  0%|          | 0/33501 [00:00<?, ?it/s]"
      ]
     },
     "metadata": {},
     "output_type": "display_data"
    },
    {
     "data": {
      "application/vnd.jupyter.widget-view+json": {
       "model_id": "4813ad91726a4d08a729184389f1e2c1",
       "version_major": 2,
       "version_minor": 0
      },
      "text/plain": [
       "  0%|          | 0/1581 [00:00<?, ?it/s]"
      ]
     },
     "metadata": {},
     "output_type": "display_data"
    },
    {
     "data": {
      "application/vnd.jupyter.widget-view+json": {
       "model_id": "8b240c8e92f84570898cb1ec0e30c13e",
       "version_major": 2,
       "version_minor": 0
      },
      "text/plain": [
       "  0%|          | 0/24479 [00:00<?, ?it/s]"
      ]
     },
     "metadata": {},
     "output_type": "display_data"
    }
   ],
   "source": [
    "beauty_sent_totals = []\n",
    "contraversial_sent_totals = []\n",
    "gaming_sent_totals = []\n",
    "music_sent_totals = []\n",
    "reaction_sent_totals = []\n",
    "vlog_sent_totals =[]\n",
    "\n",
    "blen = len(pd.read_csv(csv_files[0]))\n",
    "clen = len(pd.read_csv(csv_files[1]))\n",
    "glen = len(pd.read_csv(csv_files[2]))\n",
    "mlen = len(pd.read_csv(csv_files[3]))\n",
    "rlen = len(pd.read_csv(csv_files[4]))\n",
    "vlen = len(pd.read_csv(csv_files[5]))\n",
    "\n",
    "beauty_sent_totals = run_sentiment_analysis(csv_files[0])\n",
    "contraversial_sent_totals= run_sentiment_analysis(csv_files[1])\n",
    "gaming_sent_totals = run_sentiment_analysis(csv_files[2])\n",
    "music_sent_totals = run_sentiment_analysis(csv_files[3])\n",
    "reaction_sent_totals = run_sentiment_analysis(csv_files[4])\n",
    "vlog_sent_totals = run_sentiment_analysis(csv_files[5])\n"
   ]
  },
  {
   "cell_type": "markdown",
   "metadata": {},
   "source": [
    "Print results"
   ]
  },
  {
   "cell_type": "code",
   "execution_count": 69,
   "metadata": {},
   "outputs": [
    {
     "name": "stdout",
     "output_type": "stream",
     "text": [
      "Beauty:\n",
      " \tPositive: 1528 \n",
      "\tNeutral: 2843 \n",
      "\tNegative: 293 \n",
      "\tTotal: 3136\n",
      "Contraversial:\n",
      " \tPositive: 882 \n",
      "\tNeutral: 1995 \n",
      "\tNegative: 240 \n",
      "\tTotal: 2235\n",
      "Gaming:\n",
      " \tPositive: 14790 \n",
      "\tNeutral: 31543 \n",
      "\tNegative: 1827 \n",
      "\tTotal: 33370\n",
      "Music:\n",
      " \tPositive: 5706 \n",
      "\tNeutral: 32670 \n",
      "\tNegative: 818 \n",
      "\tTotal: 33501\n",
      "Reaction:\n",
      " \tPositive: 351 \n",
      "\tNeutral: 1463 \n",
      "\tNegative: 118 \n",
      "\tTotal: 1581\n",
      "Vlog:\n",
      " \tPositive: 10775 \n",
      "\tNeutral: 22683 \n",
      "\tNegative: 1796 \n",
      "\tTotal: 24479\n"
     ]
    }
   ],
   "source": [
    "print(\"Beauty:\\n \\tPositive:\" , beauty_sent_totals[0], \"\\n\\tNeutral:\", beauty_sent_totals[1], \"\\n\\tNegative:\", beauty_sent_totals[2], \"\\n\\tTotal:\", blen)\n",
    "print(\"Contraversial:\\n \\tPositive:\" , contraversial_sent_totals[0], \"\\n\\tNeutral:\", contraversial_sent_totals[1], \"\\n\\tNegative:\", contraversial_sent_totals[2], \"\\n\\tTotal:\", clen)\n",
    "print(\"Gaming:\\n \\tPositive:\" , gaming_sent_totals[0], \"\\n\\tNeutral:\", gaming_sent_totals[1], \"\\n\\tNegative:\", gaming_sent_totals[2], \"\\n\\tTotal:\", glen)\n",
    "print(\"Music:\\n \\tPositive:\" , music_sent_totals[0], \"\\n\\tNeutral:\", music_sent_totals[1], \"\\n\\tNegative:\", music_sent_totals[2], \"\\n\\tTotal:\", mlen)\n",
    "print(\"Reaction:\\n \\tPositive:\" , reaction_sent_totals[0], \"\\n\\tNeutral:\", reaction_sent_totals[1], \"\\n\\tNegative:\", reaction_sent_totals[2], \"\\n\\tTotal:\", rlen)\n",
    "print(\"Vlog:\\n \\tPositive:\" , vlog_sent_totals[0], \"\\n\\tNeutral:\", vlog_sent_totals[1], \"\\n\\tNegative:\", vlog_sent_totals[2], \"\\n\\tTotal:\", vlen)"
   ]
  }
 ],
 "metadata": {
  "kernelspec": {
   "display_name": "Python 3",
   "language": "python",
   "name": "python3"
  },
  "language_info": {
   "codemirror_mode": {
    "name": "ipython",
    "version": 3
   },
   "file_extension": ".py",
   "mimetype": "text/x-python",
   "name": "python",
   "nbconvert_exporter": "python",
   "pygments_lexer": "ipython3",
   "version": "3.11.6"
  }
 },
 "nbformat": 4,
 "nbformat_minor": 2
}
